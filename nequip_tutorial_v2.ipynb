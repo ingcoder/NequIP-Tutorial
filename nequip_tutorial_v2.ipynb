{
 "cells": [
  {
   "cell_type": "markdown",
   "metadata": {
    "colab_type": "text",
    "id": "view-in-github"
   },
   "source": [
    "<a href=\"https://colab.research.google.com/github/ingcoder/NequIP-Tutorial/blob/main/nequip_tutorial_v2.ipynb\" target=\"_parent\"><img src=\"https://colab.research.google.com/assets/colab-badge.svg\" alt=\"Open In Colab\"/></a>"
   ]
  },
  {
   "cell_type": "markdown",
   "metadata": {
    "id": "zUYhLeLRic61"
   },
   "source": [
    "# NequIP Tutorial \n",
    "This is an implementation of an NequIP energy and force prediction model in python. \n",
    "The trained model is deployed and integrated into LAMMPS MD engine to run an accelerated simulation on a single molecule.\n",
    "Questions? How does the integration works? How to setup LAMMPS simulation? How to determine performance (accuracy) of the model?"
   ]
  },
  {
   "cell_type": "code",
   "execution_count": 1,
   "metadata": {
    "id": "hHw_NkIwiguA"
   },
   "outputs": [],
   "source": [
    "%%capture\n",
    "# install wandb\n",
    "!pip install wandb\n",
    "# install nequip\n",
    "!git clone --depth 1 \"https://github.com/mir-group/nequip.git\"\n",
    "!pip install nequip/\n",
    "# fix colab imports\n",
    "import site\n",
    "site.main()\n",
    "# set to allow anonymous WandB\n",
    "import os\n",
    "os.environ[\"WANDB_ANONYMOUS\"] = \"must\"\n",
    "import numpy as np \n",
    "import torch \n",
    "from ase.io import read, write\n",
    "np.random.seed(0)\n",
    "torch.manual_seed(0)"
   ]
  },
  {
   "cell_type": "code",
   "execution_count": 2,
   "metadata": {
    "id": "vyXZ3g1Vjctg"
   },
   "outputs": [],
   "source": [
    "%%capture\n",
    "# compile lammps\n",
    "!git clone -b stable_29Sep2021_update2 --depth 1 https://github.com/lammps/lammps.git\n",
    "!wget \"https://github.com/mir-group/pair_nequip/archive/main.zip\"\n",
    "!unzip -q main.zip\n",
    "!rm main.zip\n",
    "!mv pair_nequip-main pair_nequip\n",
    "!cd pair_nequip && ./patch_lammps.sh ../lammps\n",
    "!pip install mkl mkl-include\n",
    "!cd lammps && mkdir -p build && cd build && cmake ../cmake -DCMAKE_PREFIX_PATH=`python -c 'import torch;print(torch.utils.cmake_prefix_path)'` && make -j4"
   ]
  },
  {
   "cell_type": "code",
   "execution_count": 3,
   "metadata": {
    "id": "6dX4lPx0ic63"
   },
   "outputs": [],
   "source": [
    "# Import modules\n",
    "import torch\n",
    "torch.set_default_dtype(torch.float32)\n",
    "import numpy as np\n",
    "import logging\n",
    "import pprint\n",
    "from nequip.utils.config import Config\n",
    "from nequip.train.trainer import Trainer\n",
    "from nequip.data import AtomicDataDict\n",
    "from nequip.data import AtomicData\n",
    "from nequip.data import dataset_from_config\n",
    "from ase.io import read, write"
   ]
  },
  {
   "cell_type": "markdown",
   "metadata": {
    "id": "cxlC1kWGic64"
   },
   "source": [
    "## Download and Visualize Molecule Dataset"
   ]
  },
  {
   "cell_type": "code",
   "execution_count": 4,
   "metadata": {
    "id": "WG-X00uBic64"
   },
   "outputs": [
    {
     "name": "stdout",
     "output_type": "stream",
     "text": [
      "rm: cannot remove '*.zip': No such file or directory\n",
      "rm: cannot remove '*.npz': No such file or directory\n",
      "  % Total    % Received % Xferd  Average Speed   Time    Time     Time  Current\n",
      "                                 Dload  Upload   Total   Spent    Left  Speed\n",
      "100 1020k  100 1020k    0     0   531k      0  0:00:01  0:00:01 --:--:--  531k\n",
      "Archive:  outfile.zip\n",
      "  inflating: toluene_ccsd_t-train.npz  \n",
      "   creating: __MACOSX/\n",
      "  inflating: __MACOSX/._toluene_ccsd_t-train.npz  \n",
      "  inflating: toluene_ccsd_t-test.npz  \n",
      "  inflating: __MACOSX/._toluene_ccsd_t-test.npz  \n",
      "/usr/bin/sh: 1: y: not found\n",
      "toluene_ccsd_t-test.npz  toluene_ccsd_t-train.npz\n"
     ]
    }
   ],
   "source": [
    "# Remove existing dataset folders and download molecule dataset\n",
    "!rm -rf ./results/\n",
    "!rm -rf ./benchmark_data\n",
    "!rm *.zip\n",
    "!rm *.npz\n",
    "!mkdir benchmark_data\n",
    "!curl http://quantum-machine.org/gdml/data/npz/toluene_ccsd_t.zip -o outfile.zip\n",
    "!unzip outfile.zip\n",
    "!y | rm -rf __MACOSX outfile outfile.zip\n",
    "!mv toluene* ./benchmark_data\n",
    "!ls benchmark_data\n"
   ]
  },
  {
   "cell_type": "code",
   "execution_count": 21,
   "metadata": {
    "id": "04Y4X3ptnseB"
   },
   "outputs": [
    {
     "name": "stdout",
     "output_type": "stream",
     "text": [
      "Requirement already satisfied: nglview in /home/josiah/.local/lib/python3.8/site-packages (3.0.3)\n",
      "Requirement already satisfied: numpy in /home/josiah/.local/lib/python3.8/site-packages (from nglview) (1.22.4)\n",
      "Requirement already satisfied: jupyterlab-widgets in /home/josiah/.local/lib/python3.8/site-packages (from nglview) (3.0.7)\n",
      "Requirement already satisfied: ipywidgets>=7 in /home/josiah/.local/lib/python3.8/site-packages (from nglview) (8.0.6)\n",
      "Requirement already satisfied: ipython>=6.1.0 in /usr/lib/python3/dist-packages (from ipywidgets>=7->nglview) (7.13.0)\n",
      "Requirement already satisfied: widgetsnbextension~=4.0.7 in /home/josiah/.local/lib/python3.8/site-packages (from ipywidgets>=7->nglview) (4.0.7)\n",
      "Requirement already satisfied: traitlets>=4.3.1 in /usr/lib/python3/dist-packages (from ipywidgets>=7->nglview) (4.3.3)\n",
      "Requirement already satisfied: ipykernel>=4.5.1 in /usr/lib/python3/dist-packages (from ipywidgets>=7->nglview) (5.2.0)\n",
      "Requirement already satisfied: pexpect in /usr/lib/python3/dist-packages (from ipython>=6.1.0->ipywidgets>=7->nglview) (4.6.0)\n",
      "Enabling notebook extension nglview-js-widgets/extension...\n",
      "/usr/lib/python3/dist-packages/requests/__init__.py:89: RequestsDependencyWarning: urllib3 (1.26.15) or chardet (3.0.4) doesn't match a supported version!\n",
      "  warnings.warn(\"urllib3 ({}) or chardet ({}) doesn't match a supported \"\n",
      "Traceback (most recent call last):\n",
      "  File \"/usr/bin/jupyter-nbextension\", line 11, in <module>\n",
      "    load_entry_point('notebook==6.0.3', 'console_scripts', 'jupyter-nbextension')()\n",
      "  File \"/usr/lib/python3/dist-packages/jupyter_core/application.py\", line 270, in launch_instance\n",
      "    return super(JupyterApp, cls).launch_instance(argv=argv, **kwargs)\n",
      "  File \"/usr/lib/python3/dist-packages/traitlets/config/application.py\", line 664, in launch_instance\n",
      "    app.start()\n",
      "  File \"/usr/lib/python3/dist-packages/notebook/nbextensions.py\", line 983, in start\n",
      "    super(NBExtensionApp, self).start()\n",
      "  File \"/usr/lib/python3/dist-packages/jupyter_core/application.py\", line 259, in start\n",
      "    self.subapp.start()\n",
      "  File \"/usr/lib/python3/dist-packages/notebook/nbextensions.py\", line 891, in start\n",
      "    self.toggle_nbextension_python(self.extra_args[0])\n",
      "  File \"/usr/lib/python3/dist-packages/notebook/nbextensions.py\", line 864, in toggle_nbextension_python\n",
      "    return toggle(module,\n",
      "  File \"/usr/lib/python3/dist-packages/notebook/nbextensions.py\", line 477, in enable_nbextension_python\n",
      "    return _set_nbextension_state_python(True, module, user, sys_prefix,\n",
      "  File \"/usr/lib/python3/dist-packages/notebook/nbextensions.py\", line 376, in _set_nbextension_state_python\n",
      "    return [_set_nbextension_state(section=nbext[\"section\"],\n",
      "  File \"/usr/lib/python3/dist-packages/notebook/nbextensions.py\", line 376, in <listcomp>\n",
      "    return [_set_nbextension_state(section=nbext[\"section\"],\n",
      "  File \"/usr/lib/python3/dist-packages/notebook/nbextensions.py\", line 346, in _set_nbextension_state\n",
      "    cm.update(section, {\"load_extensions\": {require: state}})\n",
      "  File \"/usr/lib/python3/dist-packages/notebook/config_manager.py\", line 132, in update\n",
      "    self.set(section_name, data)\n",
      "  File \"/usr/lib/python3/dist-packages/notebook/config_manager.py\", line 121, in set\n",
      "    f = io.open(filename, 'w', encoding='utf-8')\n",
      "PermissionError: [Errno 13] Permission denied: '/etc/jupyter/nbconfig/notebook.json'\n"
     ]
    }
   ],
   "source": [
    "!pip install nglview\n",
    "!jupyter-nbextension enable nglview --py --sys-prefix\n",
    "#from google.colab import output\n",
    "#output.enable_custom_widget_manager()"
   ]
  },
  {
   "cell_type": "code",
   "execution_count": 20,
   "metadata": {
    "colab": {
     "base_uri": "https://localhost:8080/",
     "height": 417,
     "referenced_widgets": [
      "eac4cce28a234719a924f20eef8f645e",
      "5129dce7706d40e290f1424960189cf3",
      "833641b496154da1becf4ca38f1511d4",
      "95bdc18d83ee40d4920eb13ad4a6be44",
      "77ed8e1c8223447da3331ff82ebf8bd8",
      "0c42dcce6aed4b58aa241a2705fcf6c2",
      "5204341de697482e8eafeff7d3c3768f",
      "d2b05882307d48e0a97ce2c4f483fece",
      "63f667a34bfc496ca80a15efde8d8411",
      "ed5745db73444a98a30f4220031785d5",
      "d316354ccd2941ad93bccab340f429e6",
      "9ada3dbf586641a3ade76ee51541d95c",
      "f68864029c6f4a83aed4bbf327a5c3a7"
     ]
    },
    "id": "oywYZsEUic64",
    "outputId": "4c660cb3-8946-4770-ce2f-61f05c50e467"
   },
   "outputs": [
    {
     "ename": "ModuleNotFoundError",
     "evalue": "No module named 'ipywidgets.embed'",
     "output_type": "error",
     "traceback": [
      "\u001b[0;31m---------------------------------------------------------------------------\u001b[0m",
      "\u001b[0;31mModuleNotFoundError\u001b[0m                       Traceback (most recent call last)",
      "\u001b[0;32m<ipython-input-20-885e804d96e0>\u001b[0m in \u001b[0;36m<module>\u001b[0;34m\u001b[0m\n\u001b[1;32m      1\u001b[0m \u001b[0;31m# Visualize\u001b[0m\u001b[0;34m\u001b[0m\u001b[0;34m\u001b[0m\u001b[0;34m\u001b[0m\u001b[0m\n\u001b[0;32m----> 2\u001b[0;31m \u001b[0;32mimport\u001b[0m \u001b[0mnglview\u001b[0m\u001b[0;34m\u001b[0m\u001b[0;34m\u001b[0m\u001b[0m\n\u001b[0m\u001b[1;32m      3\u001b[0m \u001b[0;32mfrom\u001b[0m \u001b[0mase\u001b[0m\u001b[0;34m.\u001b[0m\u001b[0mio\u001b[0m \u001b[0;32mimport\u001b[0m \u001b[0mread\u001b[0m\u001b[0;34m\u001b[0m\u001b[0;34m\u001b[0m\u001b[0m\n\u001b[1;32m      4\u001b[0m \u001b[0matoms\u001b[0m \u001b[0;34m=\u001b[0m \u001b[0mread\u001b[0m\u001b[0;34m(\u001b[0m\u001b[0;34m'toluene.xyz'\u001b[0m\u001b[0;34m,\u001b[0m \u001b[0mindex\u001b[0m\u001b[0;34m=\u001b[0m\u001b[0;36m0\u001b[0m\u001b[0;34m)\u001b[0m\u001b[0;34m\u001b[0m\u001b[0;34m\u001b[0m\u001b[0m\n\u001b[1;32m      5\u001b[0m \u001b[0mnglview\u001b[0m\u001b[0;34m.\u001b[0m\u001b[0mshow_ase\u001b[0m\u001b[0;34m(\u001b[0m\u001b[0matoms\u001b[0m\u001b[0;34m)\u001b[0m\u001b[0;34m\u001b[0m\u001b[0;34m\u001b[0m\u001b[0m\n",
      "\u001b[0;32m~/.local/lib/python3.8/site-packages/nglview/__init__.py\u001b[0m in \u001b[0;36m<module>\u001b[0;34m\u001b[0m\n\u001b[1;32m      2\u001b[0m \u001b[0;34m\u001b[0m\u001b[0m\n\u001b[1;32m      3\u001b[0m \u001b[0;31m# for doc\u001b[0m\u001b[0;34m\u001b[0m\u001b[0;34m\u001b[0m\u001b[0;34m\u001b[0m\u001b[0m\n\u001b[0;32m----> 4\u001b[0;31m \u001b[0;32mfrom\u001b[0m \u001b[0;34m.\u001b[0m \u001b[0;32mimport\u001b[0m \u001b[0madaptor\u001b[0m\u001b[0;34m,\u001b[0m \u001b[0mdatafiles\u001b[0m\u001b[0;34m,\u001b[0m \u001b[0mshow\u001b[0m\u001b[0;34m,\u001b[0m \u001b[0mwidget\u001b[0m\u001b[0;34m\u001b[0m\u001b[0;34m\u001b[0m\u001b[0m\n\u001b[0m\u001b[1;32m      5\u001b[0m \u001b[0;32mfrom\u001b[0m \u001b[0;34m.\u001b[0m\u001b[0m_version\u001b[0m \u001b[0;32mimport\u001b[0m \u001b[0mget_versions\u001b[0m\u001b[0;34m\u001b[0m\u001b[0;34m\u001b[0m\u001b[0m\n\u001b[1;32m      6\u001b[0m \u001b[0;32mfrom\u001b[0m \u001b[0;34m.\u001b[0m\u001b[0madaptor\u001b[0m \u001b[0;32mimport\u001b[0m \u001b[0;34m*\u001b[0m\u001b[0;34m\u001b[0m\u001b[0;34m\u001b[0m\u001b[0m\n",
      "\u001b[0;32m~/.local/lib/python3.8/site-packages/nglview/show.py\u001b[0m in \u001b[0;36m<module>\u001b[0;34m\u001b[0m\n\u001b[1;32m     11\u001b[0m                       \u001b[0mRdkitStructure\u001b[0m\u001b[0;34m,\u001b[0m\u001b[0;34m\u001b[0m\u001b[0;34m\u001b[0m\u001b[0m\n\u001b[1;32m     12\u001b[0m                       TextStructure)\n\u001b[0;32m---> 13\u001b[0;31m \u001b[0;32mfrom\u001b[0m \u001b[0;34m.\u001b[0m\u001b[0mwidget\u001b[0m \u001b[0;32mimport\u001b[0m \u001b[0mNGLWidget\u001b[0m\u001b[0;34m\u001b[0m\u001b[0;34m\u001b[0m\u001b[0m\n\u001b[0m\u001b[1;32m     14\u001b[0m \u001b[0;34m\u001b[0m\u001b[0m\n\u001b[1;32m     15\u001b[0m __all__ = [\n",
      "\u001b[0;32m~/.local/lib/python3.8/site-packages/nglview/widget.py\u001b[0m in \u001b[0;36m<module>\u001b[0;34m\u001b[0m\n\u001b[1;32m      7\u001b[0m \u001b[0;34m\u001b[0m\u001b[0m\n\u001b[1;32m      8\u001b[0m \u001b[0;32mimport\u001b[0m \u001b[0mipywidgets\u001b[0m \u001b[0;32mas\u001b[0m \u001b[0mwidgets\u001b[0m\u001b[0;34m\u001b[0m\u001b[0;34m\u001b[0m\u001b[0m\n\u001b[0;32m----> 9\u001b[0;31m \u001b[0;32mimport\u001b[0m \u001b[0mipywidgets\u001b[0m\u001b[0;34m.\u001b[0m\u001b[0membed\u001b[0m\u001b[0;34m\u001b[0m\u001b[0;34m\u001b[0m\u001b[0m\n\u001b[0m\u001b[1;32m     10\u001b[0m \u001b[0;32mimport\u001b[0m \u001b[0mnumpy\u001b[0m \u001b[0;32mas\u001b[0m \u001b[0mnp\u001b[0m\u001b[0;34m\u001b[0m\u001b[0;34m\u001b[0m\u001b[0m\n\u001b[1;32m     11\u001b[0m \u001b[0;32mfrom\u001b[0m \u001b[0mIPython\u001b[0m\u001b[0;34m.\u001b[0m\u001b[0mdisplay\u001b[0m \u001b[0;32mimport\u001b[0m \u001b[0mdisplay\u001b[0m\u001b[0;34m\u001b[0m\u001b[0;34m\u001b[0m\u001b[0m\n",
      "\u001b[0;31mModuleNotFoundError\u001b[0m: No module named 'ipywidgets.embed'"
     ]
    }
   ],
   "source": [
    "# Visualize\n",
    "import nglview\n",
    "from ase.io import read\n",
    "atoms = read('toluene.xyz', index=0)\n",
    "nglview.show_ase(atoms)"
   ]
  },
  {
   "cell_type": "markdown",
   "metadata": {
    "id": "cb1hXPDkic64"
   },
   "source": [
    "## Set torch geometric training dataset"
   ]
  },
  {
   "cell_type": "code",
   "execution_count": 10,
   "metadata": {
    "id": "7E7Fozklic64"
   },
   "outputs": [
    {
     "name": "stdout",
     "output_type": "stream",
     "text": [
      "['E', 'name', 'F', 'theory', 'R', 'z', 'type', 'md5']\n",
      "(1000, 15, 3)\n"
     ]
    }
   ],
   "source": [
    "# from nequip.data.dataset import NpzDataset\n",
    "# dataset = NpzDataset('./tutorial_results/')\n",
    "# logging.info(f\"Successfully loaded the data set of type {dataset}...\")\n",
    "npz_files = np.load('benchmark_data/toluene_ccsd_t-train.npz')\n",
    "npz_files['E'].shape\n",
    "npz_files['z']\n",
    "npz_files['name']\n",
    "print(npz_files.files)\n",
    "print(npz_files['R'].shape)"
   ]
  },
  {
   "cell_type": "code",
   "execution_count": 11,
   "metadata": {
    "id": "xt3vSgYkic65"
   },
   "outputs": [
    {
     "name": "stdout",
     "output_type": "stream",
     "text": [
      "{'BesselBasis_trainable': True,\n",
      " 'PolynomialCutoff_p': 6,\n",
      " 'append': True,\n",
      " 'avg_num_neighbors': 'auto',\n",
      " 'batch_size': 5,\n",
      " 'chemical_symbols': ['H', 'C'],\n",
      " 'dataset': 'npz',\n",
      " 'dataset_file_name': './benchmark_data/toluene_ccsd_t-train.npz',\n",
      " 'dataset_seed': 456,\n",
      " 'dataset_url': 'http://quantum-machine.org/gdml/data/npz/toluene_ccsd_t.zip',\n",
      " 'default_dtype': 'float32',\n",
      " 'early_stopping_lower_bounds': {'LR': 1e-05},\n",
      " 'early_stopping_patiences': {'validation_loss': 50},\n",
      " 'ema_decay': 0.99,\n",
      " 'ema_use_num_updates': True,\n",
      " 'invariant_layers': 2,\n",
      " 'invariant_neurons': 64,\n",
      " 'key_mapping': {'E': 'total_energy',\n",
      "                 'F': 'forces',\n",
      "                 'R': 'pos',\n",
      "                 'z': 'atomic_numbers'},\n",
      " 'l_max': 2,\n",
      " 'learning_rate': 0.005,\n",
      " 'log_batch_freq': 10,\n",
      " 'log_epoch_freq': 1,\n",
      " 'loss_coeffs': {'forces': 1, 'total_energy': [1, 'PerAtomMSELoss']},\n",
      " 'lr_scheduler_factor': 0.5,\n",
      " 'lr_scheduler_name': 'ReduceLROnPlateau',\n",
      " 'lr_scheduler_patience': 100,\n",
      " 'max_epochs': 100000,\n",
      " 'metrics_components': [['forces', 'mae'],\n",
      "                        ['forces', 'rmse'],\n",
      "                        ['forces',\n",
      "                         'mae',\n",
      "                         {'PerSpecies': True, 'report_per_component': False}],\n",
      "                        ['forces',\n",
      "                         'rmse',\n",
      "                         {'PerSpecies': True, 'report_per_component': False}],\n",
      "                        ['total_energy', 'mae'],\n",
      "                        ['total_energy', 'mae', {'PerAtom': True}]],\n",
      " 'metrics_key': 'validation_loss',\n",
      " 'n_train': 100,\n",
      " 'n_val': 50,\n",
      " 'nonlinearity_gates': {'e': 'silu', 'o': 'tanh'},\n",
      " 'nonlinearity_scalars': {'e': 'silu', 'o': 'tanh'},\n",
      " 'nonlinearity_type': 'gate',\n",
      " 'npz_fixed_field_keys': ['atomic_numbers'],\n",
      " 'num_basis': 8,\n",
      " 'num_features': 32,\n",
      " 'num_layers': 4,\n",
      " 'optimizer_amsgrad': True,\n",
      " 'optimizer_name': 'Adam',\n",
      " 'parity': True,\n",
      " 'per_species_rescale_scales': 'dataset_forces_rms',\n",
      " 'per_species_rescale_scales_trainable': False,\n",
      " 'per_species_rescale_shifts': 'dataset_per_atom_total_energy_mean',\n",
      " 'per_species_rescale_shifts_trainable': False,\n",
      " 'r_max': 4.0,\n",
      " 'report_init_validation': True,\n",
      " 'root': 'results/toluene',\n",
      " 'run_name': 'example-run-toluene',\n",
      " 'save_checkpoint_freq': -1,\n",
      " 'save_ema_checkpoint_freq': -1,\n",
      " 'seed': 123,\n",
      " 'shuffle': True,\n",
      " 'train_val_split': 'random',\n",
      " 'use_ema': True,\n",
      " 'use_sc': True,\n",
      " 'validation_batch_size': 10,\n",
      " 'verbose': 'info',\n",
      " 'wandb': True,\n",
      " 'wandb_project': 'toluene-example'}\n"
     ]
    }
   ],
   "source": [
    "# Load config file\n",
    "config = Config.from_file('example.yaml')\n",
    "pprint.pprint(config.as_dict())"
   ]
  },
  {
   "cell_type": "code",
   "execution_count": 12,
   "metadata": {
    "id": "hlaPGymPic65"
   },
   "outputs": [
    {
     "name": "stderr",
     "output_type": "stream",
     "text": [
      "Torch device: cpu\n"
     ]
    },
    {
     "data": {
      "text/plain": [
       "{'root': 'results/toluene',\n",
       " 'run_name': 'example-run-toluene',\n",
       " 'append': True,\n",
       " 'default_dtype': 'float32',\n",
       " 'r_max': 4.0,\n",
       " 'num_layers': 4,\n",
       " 'l_max': 2,\n",
       " 'parity': True,\n",
       " 'num_features': 32,\n",
       " 'nonlinearity_type': 'gate',\n",
       " 'nonlinearity_scalars': {'e': 'silu', 'o': 'tanh'},\n",
       " 'nonlinearity_gates': {'e': 'silu', 'o': 'tanh'},\n",
       " 'num_basis': 8,\n",
       " 'BesselBasis_trainable': True,\n",
       " 'PolynomialCutoff_p': 6,\n",
       " 'invariant_layers': 2,\n",
       " 'invariant_neurons': 64,\n",
       " 'avg_num_neighbors': 'auto',\n",
       " 'use_sc': True,\n",
       " 'dataset': 'npz',\n",
       " 'dataset_url': 'http://quantum-machine.org/gdml/data/npz/toluene_ccsd_t.zip',\n",
       " 'dataset_file_name': './benchmark_data/toluene_ccsd_t-train.npz',\n",
       " 'key_mapping': {'z': 'atomic_numbers',\n",
       "  'E': 'total_energy',\n",
       "  'F': 'forces',\n",
       "  'R': 'pos'},\n",
       " 'npz_fixed_field_keys': ['atomic_numbers'],\n",
       " 'chemical_symbols': ['H', 'C'],\n",
       " 'wandb': True,\n",
       " 'wandb_project': 'toluene-example',\n",
       " 'early_stopping_patiences': {'validation_loss': 50},\n",
       " 'early_stopping_lower_bounds': {'LR': 1e-05},\n",
       " 'optimizer_amsgrad': True,\n",
       " 'lr_scheduler_patience': 100,\n",
       " 'lr_scheduler_factor': 0.5,\n",
       " 'per_species_rescale_shifts_trainable': False,\n",
       " 'per_species_rescale_scales_trainable': False,\n",
       " 'per_species_rescale_shifts': 'dataset_per_atom_total_energy_mean',\n",
       " 'per_species_rescale_scales': 'dataset_forces_rms'}"
      ]
     },
     "execution_count": 12,
     "metadata": {},
     "output_type": "execute_result"
    }
   ],
   "source": [
    "# Instantiate Trainer object trainer with a config file. The trainer handles training as well as call back functions for logging, model saving, and early stopping.\n",
    "trainer = Trainer(model=None, **dict(config))\n",
    "trainer.kwargs"
   ]
  },
  {
   "cell_type": "code",
   "execution_count": 22,
   "metadata": {
    "id": "ZkJlVCDAic65"
   },
   "outputs": [
    {
     "name": "stderr",
     "output_type": "stream",
     "text": [
      "Successfully loaded the data set of type NpzDataset(1000)...\n"
     ]
    },
    {
     "data": {
      "text/plain": [
       "AtomicData(atom_types=[15, 1], cell=[3, 3], edge_cell_shift=[152, 3], edge_index=[2, 152], forces=[15, 3], pbc=[3], pos=[15, 3], r_max=4.0, total_energy=[1])"
      ]
     },
     "execution_count": 22,
     "metadata": {},
     "output_type": "execute_result"
    }
   ],
   "source": [
    "# Load dataset from config file\n",
    "dataset = dataset_from_config(config, prefix='dataset')\n",
    "logging.info(f\"Successfully loaded the data set of type {dataset}...\")\n",
    "next(iter(dataset))"
   ]
  },
  {
   "cell_type": "code",
   "execution_count": 23,
   "metadata": {
    "id": "xa5ZySe5ic65"
   },
   "outputs": [
    {
     "data": {
      "text/plain": [
       "dict_keys(['pos', 'total_energy', 'forces'])"
      ]
     },
     "execution_count": 23,
     "metadata": {},
     "output_type": "execute_result"
    }
   ],
   "source": [
    "trainer.set_dataset(dataset)\n",
    "trainer.dataset_train.get_data()[0].keys()"
   ]
  },
  {
   "cell_type": "code",
   "execution_count": 24,
   "metadata": {
    "id": "uoQ2EYxLic65"
   },
   "outputs": [
    {
     "data": {
      "text/plain": [
       "array([-169793.31], dtype=float32)"
      ]
     },
     "execution_count": 24,
     "metadata": {},
     "output_type": "execute_result"
    }
   ],
   "source": [
    "# Normalize training dataset, compute statistics\n",
    "(\n",
    "    (forces_std,),\n",
    "    (energies_mean, energies_std)\n",
    ") = trainer.dataset_train.statistics(\n",
    "    fields=[\n",
    "        AtomicDataDict.FORCE_KEY,\n",
    "        AtomicDataDict.TOTAL_ENERGY_KEY\n",
    "    ],\n",
    "    modes=[\"rms\", \"mean_std\"],\n",
    ")\n",
    "forces_std\n",
    "energies_std\n",
    "energies_mean.numpy()"
   ]
  },
  {
   "cell_type": "code",
   "execution_count": 16,
   "metadata": {
    "id": "9LuVt0qEic66"
   },
   "outputs": [],
   "source": [
    "# 1) Todo: Normalize target (energy and forces)\n",
    "# result = trainer.dataset_train.get_data()\n",
    "# energy_minus_mean = result[0]['total_energy'] - energies_mean.numpy()\n",
    "# energy_normalized = energy_minus_mean * energies_std.numpy()\n",
    "# trainer.dataset_train.get_data()[0]['total_energy'] = energy_normalized "
   ]
  },
  {
   "cell_type": "markdown",
   "metadata": {
    "id": "7IYB0M5zic66"
   },
   "source": [
    "## Force and Energy Prediction"
   ]
  },
  {
   "cell_type": "code",
   "execution_count": 25,
   "metadata": {
    "id": "pVu9cuI_ic66"
   },
   "outputs": [],
   "source": [
    "# Create model\n",
    "from nequip.model._grads import ForceOutput\n",
    "from typing import Optional\n",
    "import logging\n",
    "from e3nn import o3\n",
    "from nequip.data import AtomicDataDict, AtomicDataset\n",
    "from nequip.nn import (\n",
    "    SequentialGraphNetwork,\n",
    "    AtomwiseLinear,\n",
    "    AtomwiseReduce,\n",
    "    ConvNetLayer,\n",
    ")\n",
    "from nequip.nn.embedding import (\n",
    "    OneHotAtomEncoding,\n",
    "    RadialBasisEdgeEncoding,\n",
    "    SphericalHarmonicEdgeAttrs,\n",
    ")\n",
    "\n",
    "from nequip.model import builder_utils\n",
    "\n",
    "def EnergyModel(\n",
    "    config, initialize: bool, dataset: Optional[AtomicDataset] = None\n",
    ") -> SequentialGraphNetwork:\n",
    "    \"\"\"Base default energy model archetecture.\n",
    "\n",
    "    For minimal and full configuration option listings, see ``minimal.yaml`` and ``example.yaml``.\n",
    "    \"\"\"\n",
    "    logging.debug(\"Start building the network model\")\n",
    "\n",
    "    builder_utils.add_avg_num_neighbors(\n",
    "        config=config, initialize=initialize, dataset=dataset\n",
    "    )\n",
    "\n",
    "    num_layers = config.get(\"num_layers\", 3)\n",
    "\n",
    "    layers = {\n",
    "        # -- Encode --\n",
    "        \"one_hot\": OneHotAtomEncoding,\n",
    "        \"spharm_edges\": SphericalHarmonicEdgeAttrs,\n",
    "        \"radial_basis\": RadialBasisEdgeEncoding,\n",
    "        # -- Embed features --\n",
    "        \"chemical_embedding\": AtomwiseLinear,\n",
    "    }\n",
    "\n",
    "    # add convnet layers\n",
    "    # insertion preserves order\n",
    "    for layer_i in range(num_layers):\n",
    "        layers[f\"layer{layer_i}_convnet\"] = ConvNetLayer\n",
    "\n",
    "    # .update also maintains insertion order\n",
    "    layers.update(\n",
    "        {\n",
    "            # TODO: the next linear throws out all L > 0, don't create them in the last layer of convnet\n",
    "            # -- output block --\n",
    "            \"conv_to_output_hidden\": AtomwiseLinear,\n",
    "            \"output_hidden_to_scalar\": (\n",
    "                AtomwiseLinear,\n",
    "                dict(irreps_out=\"1x0e\", out_field=AtomicDataDict.PER_ATOM_ENERGY_KEY),\n",
    "            ),\n",
    "        }\n",
    "    )\n",
    "\n",
    "    layers[\"total_energy_sum\"] = (\n",
    "        AtomwiseReduce,\n",
    "        dict(\n",
    "            reduce=\"sum\",\n",
    "            field=AtomicDataDict.PER_ATOM_ENERGY_KEY,\n",
    "            out_field=AtomicDataDict.TOTAL_ENERGY_KEY,\n",
    "        ),\n",
    "    )\n",
    "\n",
    "    return SequentialGraphNetwork.from_parameters(\n",
    "        shared_params=config,\n",
    "        layers=layers,\n",
    "    )"
   ]
  },
  {
   "cell_type": "code",
   "execution_count": 26,
   "metadata": {
    "id": "xae2xNKIic66"
   },
   "outputs": [
    {
     "ename": "RuntimeError",
     "evalue": "Failed to build object with prefix `one_hot` using builder `OneHotAtomEncoding`",
     "output_type": "error",
     "traceback": [
      "\u001b[0;31m---------------------------------------------------------------------------\u001b[0m",
      "\u001b[0;31mTypeError\u001b[0m                                 Traceback (most recent call last)",
      "\u001b[0;32m~/.local/lib/python3.8/site-packages/nequip/utils/auto_init.py\u001b[0m in \u001b[0;36minstantiate\u001b[0;34m(builder, prefix, positional_args, optional_args, all_args, remove_kwargs, return_args_only, parent_builders)\u001b[0m\n\u001b[1;32m    231\u001b[0m     \u001b[0;32mtry\u001b[0m\u001b[0;34m:\u001b[0m\u001b[0;34m\u001b[0m\u001b[0;34m\u001b[0m\u001b[0m\n\u001b[0;32m--> 232\u001b[0;31m         \u001b[0minstance\u001b[0m \u001b[0;34m=\u001b[0m \u001b[0mbuilder\u001b[0m\u001b[0;34m(\u001b[0m\u001b[0;34m**\u001b[0m\u001b[0mpositional_args\u001b[0m\u001b[0;34m,\u001b[0m \u001b[0;34m**\u001b[0m\u001b[0mfinal_optional_args\u001b[0m\u001b[0;34m)\u001b[0m\u001b[0;34m\u001b[0m\u001b[0;34m\u001b[0m\u001b[0m\n\u001b[0m\u001b[1;32m    233\u001b[0m     \u001b[0;32mexcept\u001b[0m \u001b[0mException\u001b[0m \u001b[0;32mas\u001b[0m \u001b[0me\u001b[0m\u001b[0;34m:\u001b[0m\u001b[0;34m\u001b[0m\u001b[0;34m\u001b[0m\u001b[0m\n",
      "\u001b[0;31mTypeError\u001b[0m: __init__() missing 1 required positional argument: 'num_types'",
      "\nThe above exception was the direct cause of the following exception:\n",
      "\u001b[0;31mRuntimeError\u001b[0m                              Traceback (most recent call last)",
      "\u001b[0;32m<ipython-input-26-e25a567c1e50>\u001b[0m in \u001b[0;36m<module>\u001b[0;34m\u001b[0m\n\u001b[1;32m      1\u001b[0m \u001b[0;31m# Instantiate model\u001b[0m\u001b[0;34m\u001b[0m\u001b[0;34m\u001b[0m\u001b[0;34m\u001b[0m\u001b[0m\n\u001b[0;32m----> 2\u001b[0;31m \u001b[0menergy_model\u001b[0m \u001b[0;34m=\u001b[0m \u001b[0mEnergyModel\u001b[0m\u001b[0;34m(\u001b[0m\u001b[0mconfig\u001b[0m\u001b[0;34m,\u001b[0m \u001b[0minitialize\u001b[0m\u001b[0;34m=\u001b[0m\u001b[0;32mTrue\u001b[0m\u001b[0;34m,\u001b[0m \u001b[0mdataset\u001b[0m\u001b[0;34m=\u001b[0m\u001b[0mdataset\u001b[0m\u001b[0;34m)\u001b[0m\u001b[0;34m\u001b[0m\u001b[0;34m\u001b[0m\u001b[0m\n\u001b[0m\u001b[1;32m      3\u001b[0m \u001b[0mforce_model\u001b[0m \u001b[0;34m=\u001b[0m \u001b[0mForceOutput\u001b[0m\u001b[0;34m(\u001b[0m\u001b[0menergy_model\u001b[0m\u001b[0;34m)\u001b[0m\u001b[0;34m\u001b[0m\u001b[0;34m\u001b[0m\u001b[0m\n\u001b[1;32m      4\u001b[0m \u001b[0mprint\u001b[0m\u001b[0;34m(\u001b[0m\u001b[0mforce_model\u001b[0m\u001b[0;34m)\u001b[0m\u001b[0;34m\u001b[0m\u001b[0;34m\u001b[0m\u001b[0m\n",
      "\u001b[0;32m<ipython-input-25-907b73e1cfa7>\u001b[0m in \u001b[0;36mEnergyModel\u001b[0;34m(config, initialize, dataset)\u001b[0m\n\u001b[1;32m     70\u001b[0m     )\n\u001b[1;32m     71\u001b[0m \u001b[0;34m\u001b[0m\u001b[0m\n\u001b[0;32m---> 72\u001b[0;31m     return SequentialGraphNetwork.from_parameters(\n\u001b[0m\u001b[1;32m     73\u001b[0m         \u001b[0mshared_params\u001b[0m\u001b[0;34m=\u001b[0m\u001b[0mconfig\u001b[0m\u001b[0;34m,\u001b[0m\u001b[0;34m\u001b[0m\u001b[0;34m\u001b[0m\u001b[0m\n\u001b[1;32m     74\u001b[0m         \u001b[0mlayers\u001b[0m\u001b[0;34m=\u001b[0m\u001b[0mlayers\u001b[0m\u001b[0;34m,\u001b[0m\u001b[0;34m\u001b[0m\u001b[0;34m\u001b[0m\u001b[0m\n",
      "\u001b[0;32m~/.local/lib/python3.8/site-packages/nequip/nn/_graph_mixin.py\u001b[0m in \u001b[0;36mfrom_parameters\u001b[0;34m(cls, shared_params, layers, irreps_in)\u001b[0m\n\u001b[1;32m    191\u001b[0m                 )\n\u001b[1;32m    192\u001b[0m \u001b[0;34m\u001b[0m\u001b[0m\n\u001b[0;32m--> 193\u001b[0;31m             instance, _ = instantiate(\n\u001b[0m\u001b[1;32m    194\u001b[0m                 \u001b[0mbuilder\u001b[0m\u001b[0;34m=\u001b[0m\u001b[0mbuilder\u001b[0m\u001b[0;34m,\u001b[0m\u001b[0;34m\u001b[0m\u001b[0;34m\u001b[0m\u001b[0m\n\u001b[1;32m    195\u001b[0m                 \u001b[0mprefix\u001b[0m\u001b[0;34m=\u001b[0m\u001b[0mname\u001b[0m\u001b[0;34m,\u001b[0m\u001b[0;34m\u001b[0m\u001b[0;34m\u001b[0m\u001b[0m\n",
      "\u001b[0;32m~/.local/lib/python3.8/site-packages/nequip/utils/auto_init.py\u001b[0m in \u001b[0;36minstantiate\u001b[0;34m(builder, prefix, positional_args, optional_args, all_args, remove_kwargs, return_args_only, parent_builders)\u001b[0m\n\u001b[1;32m    232\u001b[0m         \u001b[0minstance\u001b[0m \u001b[0;34m=\u001b[0m \u001b[0mbuilder\u001b[0m\u001b[0;34m(\u001b[0m\u001b[0;34m**\u001b[0m\u001b[0mpositional_args\u001b[0m\u001b[0;34m,\u001b[0m \u001b[0;34m**\u001b[0m\u001b[0mfinal_optional_args\u001b[0m\u001b[0;34m)\u001b[0m\u001b[0;34m\u001b[0m\u001b[0;34m\u001b[0m\u001b[0m\n\u001b[1;32m    233\u001b[0m     \u001b[0;32mexcept\u001b[0m \u001b[0mException\u001b[0m \u001b[0;32mas\u001b[0m \u001b[0me\u001b[0m\u001b[0;34m:\u001b[0m\u001b[0;34m\u001b[0m\u001b[0;34m\u001b[0m\u001b[0m\n\u001b[0;32m--> 234\u001b[0;31m         raise RuntimeError(\n\u001b[0m\u001b[1;32m    235\u001b[0m             \u001b[0;34mf\"Failed to build object with prefix `{prefix}` using builder `{builder.__name__}`\"\u001b[0m\u001b[0;34m\u001b[0m\u001b[0;34m\u001b[0m\u001b[0m\n\u001b[1;32m    236\u001b[0m         ) from e\n",
      "\u001b[0;31mRuntimeError\u001b[0m: Failed to build object with prefix `one_hot` using builder `OneHotAtomEncoding`"
     ]
    }
   ],
   "source": [
    "# Instantiate model\n",
    "energy_model = EnergyModel(config, initialize=True, dataset=dataset)\n",
    "force_model = ForceOutput(energy_model)\n",
    "print(force_model)"
   ]
  },
  {
   "cell_type": "code",
   "execution_count": 19,
   "metadata": {
    "id": "A8WtQubaic66"
   },
   "outputs": [
    {
     "ename": "NameError",
     "evalue": "name 'force_model' is not defined",
     "output_type": "error",
     "traceback": [
      "\u001b[0;31m---------------------------------------------------------------------------\u001b[0m",
      "\u001b[0;31mNameError\u001b[0m                                 Traceback (most recent call last)",
      "\u001b[0;32m<ipython-input-19-beb3cbf04afa>\u001b[0m in \u001b[0;36m<module>\u001b[0;34m\u001b[0m\n\u001b[1;32m      1\u001b[0m \u001b[0;31m# Training\u001b[0m\u001b[0;34m\u001b[0m\u001b[0;34m\u001b[0m\u001b[0;34m\u001b[0m\u001b[0m\n\u001b[0;32m----> 2\u001b[0;31m \u001b[0mtrainer\u001b[0m\u001b[0;34m.\u001b[0m\u001b[0mmodel\u001b[0m \u001b[0;34m=\u001b[0m \u001b[0mforce_model\u001b[0m\u001b[0;34m\u001b[0m\u001b[0;34m\u001b[0m\u001b[0m\n\u001b[0m\u001b[1;32m      3\u001b[0m \u001b[0mtrainer\u001b[0m\u001b[0;34m.\u001b[0m\u001b[0mtrain\u001b[0m\u001b[0;34m(\u001b[0m\u001b[0;34m)\u001b[0m\u001b[0;34m\u001b[0m\u001b[0;34m\u001b[0m\u001b[0m\n",
      "\u001b[0;31mNameError\u001b[0m: name 'force_model' is not defined"
     ]
    }
   ],
   "source": [
    "# Training\n",
    "trainer.model = force_model\n",
    "trainer.train()"
   ]
  },
  {
   "cell_type": "code",
   "execution_count": null,
   "metadata": {
    "id": "0wR9ovNtic66"
   },
   "outputs": [],
   "source": [
    "# 2) Todo: Rescale the output\n",
    "# Since we normalized the targets, the model will also learn in this normalized space. To go back to our actual space, \n",
    "# we have to rescale the output. We do this using the RescaleOutput module which wraps a model -- in our case, our force model -- \n",
    "# and rescales its outputs appropriately.\n",
    "# from nequip.nn import RescaleOutput\n",
    "# final_model = RescaleOutput(\n",
    "#     model=force_model, \n",
    "#     scale_keys=[AtomicDataDict.TOTAL_ENERGY_KEY, AtomicDataDict.FORCE_KEY],\n",
    "#     scale_by=forces_std,\n",
    "#     shift_keys=AtomicDataDict.TOTAL_ENERGY_KEY,\n",
    "#     shift_by=energies_mean,\n",
    "# )"
   ]
  },
  {
   "cell_type": "code",
   "execution_count": null,
   "metadata": {
    "id": "jOGctZHbzxRL"
   },
   "outputs": [],
   "source": [
    "# 3) Todo: Deploy model with python script. !nequip-deploy build --train-dir results/toluene/example-run-toluene toluene-deployed.pth"
   ]
  },
  {
   "cell_type": "code",
   "execution_count": null,
   "metadata": {
    "id": "VrREAbbOxrSw"
   },
   "outputs": [],
   "source": [
    "# 4) Todo: Validate nequip model on test set"
   ]
  },
  {
   "cell_type": "markdown",
   "metadata": {
    "id": "ow54nysbic66"
   },
   "source": [
    "## Inference"
   ]
  },
  {
   "cell_type": "code",
   "execution_count": 58,
   "metadata": {
    "id": "POjrwxific66"
   },
   "outputs": [],
   "source": [
    "# Inference on last frame in dataset\n",
    "toluene_data = np.load(config.dataset_file_name)\n",
    "r = toluene_data['R'][-1]\n",
    "forces = toluene_data['F'][-1]\n",
    "ATOMIC_NUMBERS_KEY = torch.Tensor(torch.from_numpy(toluene_data['z'].astype(np.float32))).to(torch.int64)\n",
    "\n",
    "data = AtomicData.from_points(\n",
    "    pos=r,\n",
    "    r_max=config['r_max'], \n",
    "    **{AtomicDataDict.ATOMIC_NUMBERS_KEY: ATOMIC_NUMBERS_KEY,\n",
    "    AtomicDataDict.ATOM_TYPE_KEY: torch.zeros_like(ATOMIC_NUMBERS_KEY)\n",
    "    }\n",
    ")"
   ]
  },
  {
   "cell_type": "code",
   "execution_count": null,
   "metadata": {
    "id": "6PSQAQu_ic66"
   },
   "outputs": [],
   "source": [
    "# 5) Todo: Fix RuntimeError: RuntimeError: Expected all tensors to be on the same device, but found at least two devices, cuda:0 and cpu!\n",
    "force_model.eval(); \n",
    "pred = force_model(AtomicData.to_AtomicDataDict(data))['forces']"
   ]
  },
  {
   "cell_type": "code",
   "execution_count": 60,
   "metadata": {
    "colab": {
     "base_uri": "https://localhost:8080/",
     "height": 1000
    },
    "id": "jl2QkR5pic66",
    "outputId": "c5576d41-f6fc-4013-8ed2-44d161a66ccd"
   },
   "outputs": [
    {
     "ename": "NameError",
     "evalue": "ignored",
     "output_type": "error",
     "traceback": [
      "\u001b[0;31m---------------------------------------------------------------------------\u001b[0m",
      "\u001b[0;31mNameError\u001b[0m                                 Traceback (most recent call last)",
      "\u001b[0;32m<ipython-input-60-78ec553f1001>\u001b[0m in \u001b[0;36m<cell line: 12>\u001b[0;34m()\u001b[0m\n\u001b[1;32m     13\u001b[0m     \u001b[0mr\u001b[0m\u001b[0;34m[\u001b[0m\u001b[0;34m:\u001b[0m\u001b[0;34m,\u001b[0m \u001b[0;36m0\u001b[0m\u001b[0;34m]\u001b[0m\u001b[0;34m,\u001b[0m\u001b[0;34m\u001b[0m\u001b[0;34m\u001b[0m\u001b[0m\n\u001b[1;32m     14\u001b[0m     \u001b[0mr\u001b[0m\u001b[0;34m[\u001b[0m\u001b[0;34m:\u001b[0m\u001b[0;34m,\u001b[0m \u001b[0;36m1\u001b[0m\u001b[0;34m]\u001b[0m\u001b[0;34m,\u001b[0m\u001b[0;34m\u001b[0m\u001b[0;34m\u001b[0m\u001b[0m\n\u001b[0;32m---> 15\u001b[0;31m     \u001b[0mpred\u001b[0m\u001b[0;34m[\u001b[0m\u001b[0;34m:\u001b[0m\u001b[0;34m,\u001b[0m \u001b[0;36m0\u001b[0m\u001b[0;34m]\u001b[0m\u001b[0;34m.\u001b[0m\u001b[0mdetach\u001b[0m\u001b[0;34m(\u001b[0m\u001b[0;34m)\u001b[0m\u001b[0;34m.\u001b[0m\u001b[0mnumpy\u001b[0m\u001b[0;34m(\u001b[0m\u001b[0;34m)\u001b[0m\u001b[0;34m,\u001b[0m\u001b[0;34m\u001b[0m\u001b[0;34m\u001b[0m\u001b[0m\n\u001b[0m\u001b[1;32m     16\u001b[0m     \u001b[0mpred\u001b[0m\u001b[0;34m[\u001b[0m\u001b[0;34m:\u001b[0m\u001b[0;34m,\u001b[0m \u001b[0;36m1\u001b[0m\u001b[0;34m]\u001b[0m\u001b[0;34m.\u001b[0m\u001b[0mdetach\u001b[0m\u001b[0;34m(\u001b[0m\u001b[0;34m)\u001b[0m\u001b[0;34m.\u001b[0m\u001b[0mnumpy\u001b[0m\u001b[0;34m(\u001b[0m\u001b[0;34m)\u001b[0m\u001b[0;34m,\u001b[0m\u001b[0;34m\u001b[0m\u001b[0;34m\u001b[0m\u001b[0m\n\u001b[1;32m     17\u001b[0m     \u001b[0mnorm\u001b[0m\u001b[0;34m=\u001b[0m\u001b[0;32mNone\u001b[0m\u001b[0;34m\u001b[0m\u001b[0;34m\u001b[0m\u001b[0m\n",
      "\u001b[0;31mNameError\u001b[0m: name 'pred' is not defined"
     ]
    },
    {
     "data": {
      "image/png": "[encoded data removed]",
      "text/plain": [
       "<Figure size 1200x1200 with 1 Axes>"
      ]
     },
     "metadata": {},
     "output_type": "display_data"
    }
   ],
   "source": [
    "# Plot original and predicted force vectors\n",
    "from matplotlib import pyplot as plt\n",
    "plt.figure(figsize=(12, 12))\n",
    "\n",
    "plt.plot(\n",
    "    r[:, 0],\n",
    "    r[:, 1],\n",
    "    '.k',\n",
    "    markersize=10,\n",
    ")\n",
    "\n",
    "plt.quiver(\n",
    "    r[:, 0],\n",
    "    r[:, 1],\n",
    "    pred[:, 0].detach().numpy(),\n",
    "    pred[:, 1].detach().numpy(),\n",
    "    norm=None\n",
    ")\n",
    "\n",
    "plt.quiver(\n",
    "    r[:, 0], \n",
    "    r[:, 1], \n",
    "    forces[:, 0],\n",
    "    forces[:, 1],\n",
    "    color='red', \n",
    "    norm=None\n",
    ")\n",
    "\n",
    "plt.legend(['Positions', 'Predicted', 'True'], prop={'size': 20})\n",
    "plt.show()"
   ]
  },
  {
   "cell_type": "markdown",
   "metadata": {
    "id": "PVD6T9I0ic67"
   },
   "source": [
    "## MD Simulation with LAMMPS"
   ]
  },
  {
   "cell_type": "code",
   "execution_count": 64,
   "metadata": {
    "colab": {
     "base_uri": "https://localhost:8080/"
    },
    "id": "aW5qmHbIic67",
    "outputId": "8e2862bc-6dc7-4bf3-9dc3-9b68ebab253c"
   },
   "outputs": [
    {
     "name": "stdout",
     "output_type": "stream",
     "text": [
      "mkdir: cannot create directory ‘lammps_run’: File exists\n"
     ]
    }
   ],
   "source": [
    "# How to setup lammps config file?\n",
    "lammps_input_minimize = \"\"\"\n",
    "units\treal\n",
    "atom_style atomic\n",
    "newton off\n",
    "thermo 1\n",
    "read_data structure.data\n",
    "\n",
    "pair_style\tnequip\n",
    "pair_coeff\t* * ../toluene-deployed.pth C H \n",
    "mass            1 15.9994\n",
    "mass            2 1.00794\n",
    "\n",
    "neighbor 1.0 bin\n",
    "neigh_modify delay 5 every 1\n",
    "\n",
    "minimize 0.0 1.0e-8 10000 1000000\n",
    "write_dump all custom output.dump id type x y z fx fy fz\n",
    "\"\"\"\n",
    "!mkdir lammps_run\n",
    "with open(\"lammps_run/toluene_minimize.in\", \"w\") as f:\n",
    "    f.write(lammps_input_minimize)"
   ]
  },
  {
   "cell_type": "code",
   "execution_count": 65,
   "metadata": {
    "id": "yG1tDl7oic67"
   },
   "outputs": [],
   "source": [
    "toluene_example = \"\"\"15\n",
    " Lattice=\"100.0 0.0 0.0 0.0 100.0 0.0 0.0 0.0 100.0\" Properties=species:S:1:pos:R:3 -169777.5840406276=T pbc=\"F F F\"\n",
    " C       52.48936904      49.86911725      50.09520748\n",
    " C       51.01088202      49.89609925      50.17978049\n",
    " C       50.36647401      50.04650925      48.96054247\n",
    " C       48.95673398      50.29576626      48.71580846\n",
    " C       48.04533296      50.26023426      49.82589448\n",
    " C       48.70932398      49.85770925      51.01923950\n",
    " C       50.06326400      49.77782925      51.25691751\n",
    " H       52.94467905      50.48672926      50.86545150\n",
    " H       52.89060405      48.87175023      50.14480949\n",
    " H       53.02173405      50.05890725      49.03968247\n",
    " H       51.01439802      50.38234726      48.05314045\n",
    " H       48.80598498      50.64314926      47.68195744\n",
    " H       46.96754695      50.20586626      49.53998848\n",
    " H       48.16716997      49.75850325      51.88622952\n",
    " H       50.45791001      49.55387424      52.15303052\n",
    " \"\"\"\n",
    "\n",
    "with open('toluene.xyz', 'w') as f: \n",
    "    f.write(toluene_example)"
   ]
  },
  {
   "cell_type": "code",
   "execution_count": 66,
   "metadata": {
    "id": "BGFCfT_5ic67"
   },
   "outputs": [],
   "source": [
    "# Convert molecule xyz file to ASE object\n",
    "atoms = read('toluene.xyz', format='extxyz')\n",
    "\n",
    "# Perturb positions\n",
    "p = atoms.get_positions()\n",
    "p += np.random.rand(15, 3) * 0.5\n",
    "atoms.set_positions(p)\n",
    "atoms.set_pbc(False)\n",
    "\n",
    "# Write to a LAMMPS file\n",
    "write(\"lammps_run/structure.data\", atoms, format=\"lammps-data\")"
   ]
  },
  {
   "cell_type": "code",
   "execution_count": 68,
   "metadata": {
    "colab": {
     "base_uri": "https://localhost:8080/"
    },
    "id": "v-0EZ4vZic67",
    "outputId": "945ec6bf-cb1d-45d0-b9ca-0a641133453f"
   },
   "outputs": [
    {
     "name": "stdout",
     "output_type": "stream",
     "text": [
      "LAMMPS (29 Sep 2021 - Update 2)\n",
      "OMP_NUM_THREADS environment is not set. Defaulting to 1 thread. (src/comm.cpp:98)\n",
      "  using 1 OpenMP thread(s) per MPI task\n",
      "Reading data file ...\n",
      "  orthogonal box = (0.0000000 0.0000000 0.0000000) to (100.00000 100.00000 100.00000)\n",
      "  1 by 1 by 1 MPI processor grid\n",
      "  reading atoms ...\n",
      "  15 atoms\n",
      "  read_data CPU = 0.003 seconds\n",
      "NEQUIP is using device cuda\n",
      "NequIP Coeff: type 1 is element C\n",
      "NequIP Coeff: type 2 is element H\n",
      "Loading model from ../toluene-deployed.pth\n",
      "terminate called after throwing an instance of 'c10::Error'\n",
      "  what():  Unrecognized data format\n",
      "Exception raised from load at ../torch/csrc/jit/serialization/import.cpp:449 (most recent call first):\n",
      "frame #0: c10::Error::Error(c10::SourceLocation, std::string) + 0x42 (0x7ffb6387f612 in /usr/local/lib/python3.9/dist-packages/torch/lib/libc10.so)\n",
      "frame #1: c10::detail::torchCheckFail(char const*, char const*, unsigned int, char const*) + 0x5f (0x7ffb6387bd7f in /usr/local/lib/python3.9/dist-packages/torch/lib/libc10.so)\n",
      "frame #2: torch::jit::load(std::string const&, c10::optional<c10::Device>, std::unordered_map<std::string, std::string, std::hash<std::string>, std::equal_to<std::string>, std::allocator<std::pair<std::string const, std::string> > >&) + 0x191 (0x7ffb97779bd1 in /usr/local/lib/python3.9/dist-packages/torch/lib/libtorch_cpu.so)\n",
      "frame #3: <unknown function> + 0x3d3242 (0x55fbb1e7b242 in ../lammps/build/lmp)\n",
      "frame #4: <unknown function> + 0xcebfe (0x55fbb1b76bfe in ../lammps/build/lmp)\n",
      "frame #5: <unknown function> + 0xd4bae (0x55fbb1b7cbae in ../lammps/build/lmp)\n",
      "frame #6: <unknown function> + 0xd4d55 (0x55fbb1b7cd55 in ../lammps/build/lmp)\n",
      "frame #7: <unknown function> + 0xa963e (0x55fbb1b5163e in ../lammps/build/lmp)\n",
      "frame #8: __libc_start_main + 0xf3 (0x7ffb63116083 in /lib/x86_64-linux-gnu/libc.so.6)\n",
      "frame #9: <unknown function> + 0xa9c4e (0x55fbb1b51c4e in ../lammps/build/lmp)\n",
      "\n",
      "[557272b4f01e:21570] *** Process received signal ***\n",
      "[557272b4f01e:21570] Signal: Aborted (6)\n",
      "[557272b4f01e:21570] Signal code:  (-6)\n",
      "[557272b4f01e:21570] [ 0] /lib/x86_64-linux-gnu/libpthread.so.0(+0x14420)[0x7ffbac9cf420]\n",
      "[557272b4f01e:21570] [ 1] /lib/x86_64-linux-gnu/libc.so.6(gsignal+0xcb)[0x7ffb6313500b]\n",
      "[557272b4f01e:21570] [ 2] /lib/x86_64-linux-gnu/libc.so.6(abort+0x12b)[0x7ffb63114859]\n",
      "[557272b4f01e:21570] [ 3] /lib/x86_64-linux-gnu/libstdc++.so.6(+0x9e911)[0x7ffb634ee911]\n",
      "[557272b4f01e:21570] [ 4] /lib/x86_64-linux-gnu/libstdc++.so.6(+0xaa38c)[0x7ffb634fa38c]\n",
      "[557272b4f01e:21570] [ 5] /lib/x86_64-linux-gnu/libstdc++.so.6(+0xaa3f7)[0x7ffb634fa3f7]\n",
      "[557272b4f01e:21570] [ 6] /lib/x86_64-linux-gnu/libstdc++.so.6(+0xaa6a9)[0x7ffb634fa6a9]\n",
      "[557272b4f01e:21570] [ 7] /usr/local/lib/python3.9/dist-packages/torch/lib/libc10.so(_ZN3c106detail14torchCheckFailEPKcS2_jS2_+0x8a)[0x7ffb6387bdaa]\n",
      "[557272b4f01e:21570] [ 8] /usr/local/lib/python3.9/dist-packages/torch/lib/libtorch_cpu.so(_ZN5torch3jit4loadERKSsN3c108optionalINS3_6DeviceEEERSt13unordered_mapISsSsSt4hashISsESt8equal_toISsESaISt4pairIS1_SsEEE+0x191)[0x7ffb97779bd1]\n",
      "[557272b4f01e:21570] [ 9] ../lammps/build/lmp(+0x3d3242)[0x55fbb1e7b242]\n",
      "[557272b4f01e:21570] [10] ../lammps/build/lmp(+0xcebfe)[0x55fbb1b76bfe]\n",
      "[557272b4f01e:21570] [11] ../lammps/build/lmp(+0xd4bae)[0x55fbb1b7cbae]\n",
      "[557272b4f01e:21570] [12] ../lammps/build/lmp(+0xd4d55)[0x55fbb1b7cd55]\n",
      "[557272b4f01e:21570] [13] ../lammps/build/lmp(+0xa963e)[0x55fbb1b5163e]\n",
      "[557272b4f01e:21570] [14] /lib/x86_64-linux-gnu/libc.so.6(__libc_start_main+0xf3)[0x7ffb63116083]\n",
      "[557272b4f01e:21570] [15] ../lammps/build/lmp(+0xa9c4e)[0x55fbb1b51c4e]\n",
      "[557272b4f01e:21570] *** End of error message ***\n"
     ]
    }
   ],
   "source": [
    "# This isn't working because model hasn't been deployed yet\n",
    "!cd lammps_run/ && ../lammps/build/lmp -in toluene_minimize.in"
   ]
  },
  {
   "cell_type": "code",
   "execution_count": null,
   "metadata": {
    "id": "8RoP0D_b069D"
   },
   "outputs": [],
   "source": [
    "# read the final structure back in \n",
    "minimized = read('./lammps_run/output.dump', format='lammps-dump-text')"
   ]
  },
  {
   "cell_type": "code",
   "execution_count": null,
   "metadata": {
    "id": "MXKstTv20_XF"
   },
   "outputs": [],
   "source": [
    "# get distances of optimized geometry (reference data: CCSD(T) [Psi4, cc-pVDZ])\n",
    "d_12 = minimized.get_distances(1, 2)\n",
    "\n",
    "# reference: https://cccbdb.nist.gov/geom3x.asp?method=6&basis=2, coupled cluster\n",
    "d_12_ccd = 1.4086\n",
    "\n",
    "print('Relative Error in bond length w.r.t. Coupled Cluster from CCCBDB: {:.3f}%'.format((100 * np.abs(d_12 - d_12_ccd) / d_12_ccd)[0]))"
   ]
  }
 ],
 "metadata": {
  "accelerator": "GPU",
  "colab": {
   "gpuType": "T4",
   "include_colab_link": true,
   "provenance": []
  },
  "gpuClass": "standard",
  "kernelspec": {
   "display_name": "Python 3",
   "language": "python",
   "name": "python3"
  },
  "language_info": {
   "codemirror_mode": {
    "name": "ipython",
    "version": 3
   },
   "file_extension": ".py",
   "mimetype": "text/x-python",
   "name": "python",
   "nbconvert_exporter": "python",
   "pygments_lexer": "ipython3",
   "version": "3.8.10"
  },
  "widgets": {
   "application/vnd.jupyter.widget-state+json": {
    "0c42dcce6aed4b58aa241a2705fcf6c2": {
     "model_module": "@jupyter-widgets/controls",
     "model_module_version": "1.5.0",
     "model_name": "DescriptionStyleModel",
     "state": {
      "_model_module": "@jupyter-widgets/controls",
      "_model_module_version": "1.5.0",
      "_model_name": "DescriptionStyleModel",
      "_view_count": null,
      "_view_module": "@jupyter-widgets/base",
      "_view_module_version": "1.2.0",
      "_view_name": "StyleView",
      "description_width": ""
     }
    },
    "5129dce7706d40e290f1424960189cf3": {
     "model_module": "@jupyter-widgets/base",
     "model_module_version": "1.2.0",
     "model_name": "LayoutModel",
     "state": {
      "_model_module": "@jupyter-widgets/base",
      "_model_module_version": "1.2.0",
      "_model_name": "LayoutModel",
      "_view_count": null,
      "_view_module": "@jupyter-widgets/base",
      "_view_module_version": "1.2.0",
      "_view_name": "LayoutView",
      "align_content": null,
      "align_items": null,
      "align_self": null,
      "border": null,
      "bottom": null,
      "display": null,
      "flex": null,
      "flex_flow": null,
      "grid_area": null,
      "grid_auto_columns": null,
      "grid_auto_flow": null,
      "grid_auto_rows": null,
      "grid_column": null,
      "grid_gap": null,
      "grid_row": null,
      "grid_template_areas": null,
      "grid_template_columns": null,
      "grid_template_rows": null,
      "height": null,
      "justify_content": null,
      "justify_items": null,
      "left": null,
      "margin": null,
      "max_height": null,
      "max_width": null,
      "min_height": null,
      "min_width": null,
      "object_fit": null,
      "object_position": null,
      "order": null,
      "overflow": null,
      "overflow_x": null,
      "overflow_y": null,
      "padding": null,
      "right": null,
      "top": null,
      "visibility": null,
      "width": null
     }
    },
    "5204341de697482e8eafeff7d3c3768f": {
     "model_module": "@jupyter-widgets/base",
     "model_module_version": "1.2.0",
     "model_name": "LayoutModel",
     "state": {
      "_model_module": "@jupyter-widgets/base",
      "_model_module_version": "1.2.0",
      "_model_name": "LayoutModel",
      "_view_count": null,
      "_view_module": "@jupyter-widgets/base",
      "_view_module_version": "1.2.0",
      "_view_name": "LayoutView",
      "align_content": null,
      "align_items": null,
      "align_self": null,
      "border": null,
      "bottom": null,
      "display": null,
      "flex": null,
      "flex_flow": null,
      "grid_area": null,
      "grid_auto_columns": null,
      "grid_auto_flow": null,
      "grid_auto_rows": null,
      "grid_column": null,
      "grid_gap": null,
      "grid_row": null,
      "grid_template_areas": null,
      "grid_template_columns": null,
      "grid_template_rows": null,
      "height": null,
      "justify_content": null,
      "justify_items": null,
      "left": null,
      "margin": null,
      "max_height": null,
      "max_width": null,
      "min_height": null,
      "min_width": null,
      "object_fit": null,
      "object_position": null,
      "order": null,
      "overflow": null,
      "overflow_x": null,
      "overflow_y": null,
      "padding": null,
      "right": null,
      "top": null,
      "visibility": null,
      "width": null
     }
    },
    "63f667a34bfc496ca80a15efde8d8411": {
     "model_module": "@jupyter-widgets/controls",
     "model_module_version": "1.5.0",
     "model_name": "PlayModel",
     "state": {
      "_dom_classes": [],
      "_model_module": "@jupyter-widgets/controls",
      "_model_module_version": "1.5.0",
      "_model_name": "PlayModel",
      "_playing": false,
      "_repeat": false,
      "_view_count": null,
      "_view_module": "@jupyter-widgets/controls",
      "_view_module_version": "1.5.0",
      "_view_name": "PlayView",
      "description": "",
      "description_tooltip": null,
      "disabled": false,
      "interval": 100,
      "layout": "IPY_MODEL_77ed8e1c8223447da3331ff82ebf8bd8",
      "max": 0,
      "min": 0,
      "show_repeat": true,
      "step": 1,
      "style": "IPY_MODEL_0c42dcce6aed4b58aa241a2705fcf6c2",
      "value": 0
     }
    },
    "77ed8e1c8223447da3331ff82ebf8bd8": {
     "model_module": "@jupyter-widgets/base",
     "model_module_version": "1.2.0",
     "model_name": "LayoutModel",
     "state": {
      "_model_module": "@jupyter-widgets/base",
      "_model_module_version": "1.2.0",
      "_model_name": "LayoutModel",
      "_view_count": null,
      "_view_module": "@jupyter-widgets/base",
      "_view_module_version": "1.2.0",
      "_view_name": "LayoutView",
      "align_content": null,
      "align_items": null,
      "align_self": null,
      "border": null,
      "bottom": null,
      "display": null,
      "flex": null,
      "flex_flow": null,
      "grid_area": null,
      "grid_auto_columns": null,
      "grid_auto_flow": null,
      "grid_auto_rows": null,
      "grid_column": null,
      "grid_gap": null,
      "grid_row": null,
      "grid_template_areas": null,
      "grid_template_columns": null,
      "grid_template_rows": null,
      "height": null,
      "justify_content": null,
      "justify_items": null,
      "left": null,
      "margin": null,
      "max_height": null,
      "max_width": null,
      "min_height": null,
      "min_width": null,
      "object_fit": null,
      "object_position": null,
      "order": null,
      "overflow": null,
      "overflow_x": null,
      "overflow_y": null,
      "padding": null,
      "right": null,
      "top": null,
      "visibility": null,
      "width": null
     }
    },
    "833641b496154da1becf4ca38f1511d4": {
     "model_module": "@jupyter-widgets/controls",
     "model_module_version": "1.5.0",
     "model_name": "ButtonModel",
     "state": {
      "_dom_classes": [],
      "_model_module": "@jupyter-widgets/controls",
      "_model_module_version": "1.5.0",
      "_model_name": "ButtonModel",
      "_view_count": null,
      "_view_module": "@jupyter-widgets/controls",
      "_view_module_version": "1.5.0",
      "_view_name": "ButtonView",
      "button_style": "",
      "description": "",
      "disabled": false,
      "icon": "compress",
      "layout": "IPY_MODEL_d316354ccd2941ad93bccab340f429e6",
      "style": "IPY_MODEL_9ada3dbf586641a3ade76ee51541d95c",
      "tooltip": ""
     }
    },
    "95bdc18d83ee40d4920eb13ad4a6be44": {
     "model_module": "@jupyter-widgets/controls",
     "model_module_version": "1.5.0",
     "model_name": "HBoxModel",
     "state": {
      "_dom_classes": [],
      "_model_module": "@jupyter-widgets/controls",
      "_model_module_version": "1.5.0",
      "_model_name": "HBoxModel",
      "_view_count": null,
      "_view_module": "@jupyter-widgets/controls",
      "_view_module_version": "1.5.0",
      "_view_name": "HBoxView",
      "box_style": "",
      "children": [
       "IPY_MODEL_63f667a34bfc496ca80a15efde8d8411",
       "IPY_MODEL_ed5745db73444a98a30f4220031785d5"
      ],
      "layout": "IPY_MODEL_f68864029c6f4a83aed4bbf327a5c3a7"
     }
    },
    "9ada3dbf586641a3ade76ee51541d95c": {
     "model_module": "@jupyter-widgets/controls",
     "model_module_version": "1.5.0",
     "model_name": "ButtonStyleModel",
     "state": {
      "_model_module": "@jupyter-widgets/controls",
      "_model_module_version": "1.5.0",
      "_model_name": "ButtonStyleModel",
      "_view_count": null,
      "_view_module": "@jupyter-widgets/base",
      "_view_module_version": "1.2.0",
      "_view_name": "StyleView",
      "button_color": null,
      "font_weight": ""
     }
    },
    "d2b05882307d48e0a97ce2c4f483fece": {
     "model_module": "@jupyter-widgets/controls",
     "model_module_version": "1.5.0",
     "model_name": "SliderStyleModel",
     "state": {
      "_model_module": "@jupyter-widgets/controls",
      "_model_module_version": "1.5.0",
      "_model_name": "SliderStyleModel",
      "_view_count": null,
      "_view_module": "@jupyter-widgets/base",
      "_view_module_version": "1.2.0",
      "_view_name": "StyleView",
      "description_width": "",
      "handle_color": null
     }
    },
    "d316354ccd2941ad93bccab340f429e6": {
     "model_module": "@jupyter-widgets/base",
     "model_module_version": "1.2.0",
     "model_name": "LayoutModel",
     "state": {
      "_model_module": "@jupyter-widgets/base",
      "_model_module_version": "1.2.0",
      "_model_name": "LayoutModel",
      "_view_count": null,
      "_view_module": "@jupyter-widgets/base",
      "_view_module_version": "1.2.0",
      "_view_name": "LayoutView",
      "align_content": null,
      "align_items": null,
      "align_self": null,
      "border": null,
      "bottom": null,
      "display": null,
      "flex": null,
      "flex_flow": null,
      "grid_area": null,
      "grid_auto_columns": null,
      "grid_auto_flow": null,
      "grid_auto_rows": null,
      "grid_column": null,
      "grid_gap": null,
      "grid_row": null,
      "grid_template_areas": null,
      "grid_template_columns": null,
      "grid_template_rows": null,
      "height": null,
      "justify_content": null,
      "justify_items": null,
      "left": null,
      "margin": null,
      "max_height": null,
      "max_width": null,
      "min_height": null,
      "min_width": null,
      "object_fit": null,
      "object_position": null,
      "order": null,
      "overflow": null,
      "overflow_x": null,
      "overflow_y": null,
      "padding": null,
      "right": null,
      "top": null,
      "visibility": null,
      "width": "34px"
     }
    },
    "eac4cce28a234719a924f20eef8f645e": {
     "model_module": "nglview-js-widgets",
     "model_module_version": "3.0.1",
     "model_name": "NGLModel",
     "state": {
      "_camera_orientation": [
       4020.9898043809126,
       -150.87028330772142,
       -638.5107326131491,
       0,
       -655.9686154826251,
       -847.3124120833083,
       -3930.723045040724,
       0,
       12.766109405070944,
       3982.2250864217967,
       -860.5447068609777,
       0,
       -49.994998931884766,
       -49.75750160217285,
       -49.91749954223633,
       1
      ],
      "_camera_str": "orthographic",
      "_dom_classes": [],
      "_gui_theme": null,
      "_ibtn_fullscreen": "IPY_MODEL_833641b496154da1becf4ca38f1511d4",
      "_igui": null,
      "_iplayer": "IPY_MODEL_95bdc18d83ee40d4920eb13ad4a6be44",
      "_model_module": "nglview-js-widgets",
      "_model_module_version": "3.0.1",
      "_model_name": "NGLModel",
      "_ngl_color_dict": {},
      "_ngl_coordinate_resource": {},
      "_ngl_full_stage_parameters": {
       "ambientColor": 14540253,
       "ambientIntensity": 0.2,
       "backgroundColor": "white",
       "cameraEyeSep": 0.3,
       "cameraFov": 40,
       "cameraType": "perspective",
       "clipDist": 10,
       "clipFar": 100,
       "clipNear": 0,
       "fogFar": 100,
       "fogNear": 50,
       "hoverTimeout": 0,
       "impostor": true,
       "lightColor": 14540253,
       "lightIntensity": 1,
       "mousePreset": "default",
       "panSpeed": 1,
       "quality": "medium",
       "rotateSpeed": 2,
       "sampleLevel": 0,
       "tooltip": true,
       "workerDefault": true,
       "zoomSpeed": 1.2
      },
      "_ngl_msg_archive": [
       {
        "args": [
         {
          "binary": false,
          "data": "MODEL     1\nATOM      1    C MOL     1      52.489  49.869  50.095  1.00  0.00           C  \nATOM      2    C MOL     1      51.011  49.896  50.180  1.00  0.00           C  \nATOM      3    C MOL     1      50.366  50.047  48.961  1.00  0.00           C  \nATOM      4    C MOL     1      48.957  50.296  48.716  1.00  0.00           C  \nATOM      5    C MOL     1      48.045  50.260  49.826  1.00  0.00           C  \nATOM      6    C MOL     1      48.709  49.858  51.019  1.00  0.00           C  \nATOM      7    C MOL     1      50.063  49.778  51.257  1.00  0.00           C  \nATOM      8    H MOL     1      52.945  50.487  50.865  1.00  0.00           H  \nATOM      9    H MOL     1      52.891  48.872  50.145  1.00  0.00           H  \nATOM     10    H MOL     1      53.022  50.059  49.040  1.00  0.00           H  \nATOM     11    H MOL     1      51.014  50.382  48.053  1.00  0.00           H  \nATOM     12    H MOL     1      48.806  50.643  47.682  1.00  0.00           H  \nATOM     13    H MOL     1      46.968  50.206  49.540  1.00  0.00           H  \nATOM     14    H MOL     1      48.167  49.759  51.886  1.00  0.00           H  \nATOM     15    H MOL     1      50.458  49.554  52.153  1.00  0.00           H  \nENDMDL\n",
          "type": "blob"
         }
        ],
        "kwargs": {
         "defaultRepresentation": true,
         "ext": "pdb"
        },
        "methodName": "loadFile",
        "reconstruc_color_scheme": false,
        "target": "Stage",
        "type": "call_method"
       }
      ],
      "_ngl_original_stage_parameters": {
       "ambientColor": 14540253,
       "ambientIntensity": 0.2,
       "backgroundColor": "white",
       "cameraEyeSep": 0.3,
       "cameraFov": 40,
       "cameraType": "perspective",
       "clipDist": 10,
       "clipFar": 100,
       "clipNear": 0,
       "fogFar": 100,
       "fogNear": 50,
       "hoverTimeout": 0,
       "impostor": true,
       "lightColor": 14540253,
       "lightIntensity": 1,
       "mousePreset": "default",
       "panSpeed": 1,
       "quality": "medium",
       "rotateSpeed": 2,
       "sampleLevel": 0,
       "tooltip": true,
       "workerDefault": true,
       "zoomSpeed": 1.2
      },
      "_ngl_repr_dict": {
       "0": {
        "0": {
         "params": {
          "aspectRatio": 1.5,
          "assembly": "default",
          "bondScale": 0.3,
          "bondSpacing": 0.75,
          "clipCenter": {
           "x": 0,
           "y": 0,
           "z": 0
          },
          "clipNear": 0,
          "clipRadius": 0,
          "colorMode": "hcl",
          "colorReverse": false,
          "colorScale": "",
          "colorScheme": "element",
          "colorValue": 9474192,
          "cylinderOnly": false,
          "defaultAssembly": "",
          "depthWrite": true,
          "diffuse": 16777215,
          "diffuseInterior": false,
          "disableImpostor": false,
          "disablePicking": false,
          "flatShaded": false,
          "interiorColor": 2236962,
          "interiorDarkening": 0,
          "lazy": false,
          "lineOnly": false,
          "linewidth": 2,
          "matrix": {
           "elements": [
            1,
            0,
            0,
            0,
            0,
            1,
            0,
            0,
            0,
            0,
            1,
            0,
            0,
            0,
            0,
            1
           ]
          },
          "metalness": 0,
          "multipleBond": "off",
          "opacity": 1,
          "openEnded": true,
          "quality": "high",
          "radialSegments": 20,
          "radiusData": {},
          "radiusScale": 2,
          "radiusSize": 0.15,
          "radiusType": "size",
          "roughness": 0.4,
          "sele": "",
          "side": "double",
          "sphereDetail": 2,
          "useInteriorColor": true,
          "visible": true,
          "wireframe": false
         },
         "type": "ball+stick"
        }
       },
       "1": {
        "0": {
         "params": {
          "aspectRatio": 1.5,
          "assembly": "default",
          "bondScale": 0.3,
          "bondSpacing": 0.75,
          "clipCenter": {
           "x": 0,
           "y": 0,
           "z": 0
          },
          "clipNear": 0,
          "clipRadius": 0,
          "colorMode": "hcl",
          "colorReverse": false,
          "colorScale": "",
          "colorScheme": "element",
          "colorValue": 9474192,
          "cylinderOnly": false,
          "defaultAssembly": "",
          "depthWrite": true,
          "diffuse": 16777215,
          "diffuseInterior": false,
          "disableImpostor": false,
          "disablePicking": false,
          "flatShaded": false,
          "interiorColor": 2236962,
          "interiorDarkening": 0,
          "lazy": false,
          "lineOnly": false,
          "linewidth": 2,
          "matrix": {
           "elements": [
            1,
            0,
            0,
            0,
            0,
            1,
            0,
            0,
            0,
            0,
            1,
            0,
            0,
            0,
            0,
            1
           ]
          },
          "metalness": 0,
          "multipleBond": "off",
          "opacity": 1,
          "openEnded": true,
          "quality": "high",
          "radialSegments": 20,
          "radiusData": {},
          "radiusScale": 2,
          "radiusSize": 0.15,
          "radiusType": "size",
          "roughness": 0.4,
          "sele": "",
          "side": "double",
          "sphereDetail": 2,
          "useInteriorColor": true,
          "visible": true,
          "wireframe": false
         },
         "type": "ball+stick"
        }
       }
      },
      "_ngl_serialize": false,
      "_ngl_version": "2.0.0-dev.36",
      "_ngl_view_id": [
       "EECE9D23-1672-4EE3-98B7-AE8C78DAB480"
      ],
      "_player_dict": {},
      "_scene_position": {},
      "_scene_rotation": {},
      "_synced_model_ids": [],
      "_synced_repr_model_ids": [],
      "_view_count": null,
      "_view_height": "",
      "_view_module": "nglview-js-widgets",
      "_view_module_version": "3.0.1",
      "_view_name": "NGLView",
      "_view_width": "",
      "background": "white",
      "frame": 0,
      "gui_style": null,
      "layout": "IPY_MODEL_5129dce7706d40e290f1424960189cf3",
      "max_frame": 0,
      "n_components": 2,
      "picked": {}
     }
    },
    "ed5745db73444a98a30f4220031785d5": {
     "model_module": "@jupyter-widgets/controls",
     "model_module_version": "1.5.0",
     "model_name": "IntSliderModel",
     "state": {
      "_dom_classes": [],
      "_model_module": "@jupyter-widgets/controls",
      "_model_module_version": "1.5.0",
      "_model_name": "IntSliderModel",
      "_view_count": null,
      "_view_module": "@jupyter-widgets/controls",
      "_view_module_version": "1.5.0",
      "_view_name": "IntSliderView",
      "continuous_update": true,
      "description": "",
      "description_tooltip": null,
      "disabled": false,
      "layout": "IPY_MODEL_5204341de697482e8eafeff7d3c3768f",
      "max": 0,
      "min": 0,
      "orientation": "horizontal",
      "readout": true,
      "readout_format": "d",
      "step": 1,
      "style": "IPY_MODEL_d2b05882307d48e0a97ce2c4f483fece",
      "value": 0
     }
    },
    "f68864029c6f4a83aed4bbf327a5c3a7": {
     "model_module": "@jupyter-widgets/base",
     "model_module_version": "1.2.0",
     "model_name": "LayoutModel",
     "state": {
      "_model_module": "@jupyter-widgets/base",
      "_model_module_version": "1.2.0",
      "_model_name": "LayoutModel",
      "_view_count": null,
      "_view_module": "@jupyter-widgets/base",
      "_view_module_version": "1.2.0",
      "_view_name": "LayoutView",
      "align_content": null,
      "align_items": null,
      "align_self": null,
      "border": null,
      "bottom": null,
      "display": null,
      "flex": null,
      "flex_flow": null,
      "grid_area": null,
      "grid_auto_columns": null,
      "grid_auto_flow": null,
      "grid_auto_rows": null,
      "grid_column": null,
      "grid_gap": null,
      "grid_row": null,
      "grid_template_areas": null,
      "grid_template_columns": null,
      "grid_template_rows": null,
      "height": null,
      "justify_content": null,
      "justify_items": null,
      "left": null,
      "margin": null,
      "max_height": null,
      "max_width": null,
      "min_height": null,
      "min_width": null,
      "object_fit": null,
      "object_position": null,
      "order": null,
      "overflow": null,
      "overflow_x": null,
      "overflow_y": null,
      "padding": null,
      "right": null,
      "top": null,
      "visibility": null,
      "width": null
     }
    }
   }
  }
 },
 "nbformat": 4,
 "nbformat_minor": 1
}
